{
 "cells": [
  {
   "metadata": {
    "ExecuteTime": {
     "end_time": "2025-02-09T15:44:39.428223Z",
     "start_time": "2025-02-09T15:44:26.634087Z"
    }
   },
   "cell_type": "code",
   "source": [
    "import logging\n",
    "logging.basicConfig(level=logging.DEBUG)\n",
    "\n",
    "# Force inline backend before import\n",
    "import matplotlib\n",
    "matplotlib.use('module://matplotlib_inline.backend_inline')\n",
    "\n",
    "try:\n",
    "    import tmseegpy\n",
    "    print(\"Successfully imported tmseegpy\")\n",
    "    from tmseegpy.ica_topo_classifier import ICATopographyClassifier\n",
    "    print(\"Successfully accessed ICATopographyClassifier\")\n",
    "except Exception as e:\n",
    "    print(f\"Error: {e}\")\n"
   ],
   "id": "30079417d4df5d57",
   "outputs": [
    {
     "name": "stderr",
     "output_type": "stream",
     "text": [
      "DEBUG:matplotlib:matplotlib data path: /Users/alexe/anaconda3/envs/tmseeg/lib/python3.11/site-packages/matplotlib/mpl-data\n",
      "DEBUG:matplotlib:CONFIGDIR=/Users/alexe/.matplotlib\n",
      "DEBUG:matplotlib:interactive is False\n",
      "DEBUG:matplotlib:platform is darwin\n",
      "DEBUG:matplotlib:CACHEDIR=/Users/alexe/.matplotlib\n",
      "DEBUG:matplotlib.font_manager:Using fontManager instance from /Users/alexe/.matplotlib/fontlist-v390.json\n"
     ]
    },
    {
     "name": "stdout",
     "output_type": "stream",
     "text": [
      "Using matplotlib as 2D backend.\n"
     ]
    },
    {
     "name": "stderr",
     "output_type": "stream",
     "text": [
      "DEBUG:h5py._conv:Creating converter from 7 to 5\n",
      "DEBUG:h5py._conv:Creating converter from 5 to 7\n",
      "DEBUG:h5py._conv:Creating converter from 7 to 5\n",
      "DEBUG:h5py._conv:Creating converter from 5 to 7\n",
      "INFO:OpenGL.acceleratesupport:No OpenGL_accelerate module loaded: No module named 'OpenGL_accelerate'\n"
     ]
    },
    {
     "name": "stdout",
     "output_type": "stream",
     "text": [
      "Using qt as 2D backend.\n"
     ]
    },
    {
     "name": "stderr",
     "output_type": "stream",
     "text": [
      "INFO:numexpr.utils:NumExpr defaulting to 10 threads.\n",
      "DEBUG:matplotlib.pyplot:Loaded backend Qt5Agg version 6.8.1.\n"
     ]
    }
   ],
   "execution_count": null
  },
  {
   "cell_type": "code",
   "id": "initial_id",
   "metadata": {
    "collapsed": true
   },
   "source": [
    "import matplotlib\n",
    "matplotlib.use('module://matplotlib_inline.backend_inline')\n",
    "import matplotlib.pyplot as plt\n",
    "\n",
    "import mne\n",
    "mne.viz.set_browser_backend(\"matplotlib\")\n",
    "\n",
    "from tmseegpy.ica_topo_classifier import ICATopographyClassifier"
   ],
   "outputs": [],
   "execution_count": null
  },
  {
   "metadata": {},
   "cell_type": "code",
   "source": [
    "fname = '/Users/alexe/Kaggle/get_done/Magnus_test/out/2024-12-04T163850_wake_phase_1/preprocessing_steps/2_epochs_bad_no_epoch/2024-12-04T163850_wake_phase_1_2_epochs_bad_no_epoch_epo.fif'\n",
    "\n",
    "mne.read_epochs(fname)"
   ],
   "id": "7cb74ea843810944",
   "outputs": [],
   "execution_count": null
  }
 ],
 "metadata": {
  "kernelspec": {
   "display_name": "Python (tmseeg)",
   "language": "python",
   "name": "tmseeg"
  },
  "language_info": {
   "codemirror_mode": {
    "name": "ipython",
    "version": 2
   },
   "file_extension": ".py",
   "mimetype": "text/x-python",
   "name": "python",
   "nbconvert_exporter": "python",
   "pygments_lexer": "ipython2",
   "version": "2.7.6"
  }
 },
 "nbformat": 4,
 "nbformat_minor": 5
}
