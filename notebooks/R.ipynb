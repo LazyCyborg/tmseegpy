{
 "cells": [
  {
   "cell_type": "code",
   "id": "38de1939165cb7a3",
   "metadata": {
    "ExecuteTime": {
     "end_time": "2025-02-08T18:22:17.961778Z",
     "start_time": "2025-02-08T18:22:16.960087Z"
    }
   },
   "source": [
    "import os\n",
    "os.environ['R_HOME'] = '/Users/alexe/anaconda3/envs/r/lib/R'\n",
    "os.environ['PATH'] = f\"{os.environ['R_HOME']}/bin:\" + os.environ['PATH']\n",
    "\n",
    "import numpy as np\n",
    "from rpy2.robjects import numpy2ri\n",
    "import rpy2.robjects as ro\n"
   ],
   "outputs": [],
   "execution_count": 1
  },
  {
   "metadata": {
    "collapsed": true,
    "ExecuteTime": {
     "end_time": "2025-02-08T18:22:35.388858Z",
     "start_time": "2025-02-08T18:22:18.631660Z"
    }
   },
   "cell_type": "code",
   "source": [
    "# Load and convert data as before\n",
    "pre_raw_data = np.load('/Users/alexe/Kaggle/Till_Bertil/pre_raw_data.npy')\n",
    "post_raw_data = np.load('/Users/alexe/Kaggle/Till_Bertil/post_raw_data.npy')\n",
    "evoked_pre_data = np.load('/Users/alexe/Kaggle/Till_Bertil/evoked_pre_data.npy')\n",
    "evoked_post_data = np.load('/Users/alexe/Kaggle/Till_Bertil/evoked_post_data.npy')\n",
    "\n",
    "# Activate automatic conversion\n",
    "numpy2ri.activate()\n",
    "\n",
    "# Convert and assign to R's global environment\n",
    "ro.globalenv['r_pre_raw'] = numpy2ri.py2rpy(pre_raw_data)\n",
    "ro.globalenv['r_post_raw'] = numpy2ri.py2rpy(post_raw_data)\n",
    "ro.globalenv['r_evoked_pre'] = numpy2ri.py2rpy(evoked_pre_data)\n",
    "ro.globalenv['r_evoked_post'] = numpy2ri.py2rpy(evoked_post_data)\n",
    "\n",
    "# Save to RDS files\n",
    "ro.r('saveRDS(r_pre_raw, file=\"/Users/alexe/Kaggle/Till_Bertil/pre_raw.rds\")')\n",
    "ro.r('saveRDS(r_post_raw, file=\"/Users/alexe/Kaggle/Till_Bertil/post_raw.rds\")')\n",
    "ro.r('saveRDS(r_evoked_pre, file=\"/Users/alexe/Kaggle/Till_Bertil/evoked_pre.rds\")')\n",
    "ro.r('saveRDS(r_evoked_post, file=\"/Users/alexe/Kaggle/Till_Bertil/evoked_post.rds\")')\n"
   ],
   "id": "initial_id",
   "outputs": [
    {
     "data": {
      "text/plain": [
       "<rpy2.rinterface_lib.sexp.NULLType object at 0x111955080> [RTYPES.NILSXP]"
      ]
     },
     "execution_count": 2,
     "metadata": {},
     "output_type": "execute_result"
    }
   ],
   "execution_count": 2
  },
  {
   "metadata": {},
   "cell_type": "code",
   "outputs": [],
   "execution_count": null,
   "source": [
    "import os\n",
    "import numpy as np\n",
    "import mne\n",
    "\n",
    "def process_epo_files(input_dir, output_dir):\n",
    "    # Create output directory if it doesn't exist\n",
    "    if not os.path.exists(output_dir):\n",
    "        os.makedirs(output_dir)\n",
    "\n",
    "    # Find all -epo.fif files in the input directory\n",
    "    epo_files = [f for f in os.listdir(input_dir) if f.endswith('-epo.fif')]\n",
    "\n",
    "    # Process each file\n",
    "    for epo_file in epo_files:\n",
    "        try:\n",
    "            # Load epochs\n",
    "            epochs = mne.read_epochs(os.path.join(input_dir, epo_file))\n",
    "\n",
    "            # Compute average and get data\n",
    "            evoked_data = epochs.average().get_data()\n",
    "\n",
    "            # Create output filename (replace -epo.fif with .npy)\n",
    "            output_file = epo_file.replace('-epo.fif', '.npy')\n",
    "\n",
    "            # Save as numpy array\n",
    "            np.save(os.path.join(output_dir, output_file), evoked_data)\n",
    "\n",
    "            print(f\"Processed {epo_file} successfully\")\n",
    "\n",
    "        except Exception as e:\n",
    "            print(f\"Error processing {epo_file}: {str(e)}\")\n",
    "\n",
    "# Usage example:\n",
    "input_directory = '/Users/alexe/Kaggle/get_done/TMSEEG/out'\n",
    "output_directory = '/Users/alexe/Kaggle/Till_Bertil/Evoked_matriser_med_ICA_Magnus'\n",
    "process_epo_files(input_directory, output_directory)\n"
   ],
   "id": "b485d0af0dcb542"
  },
  {
   "metadata": {
    "ExecuteTime": {
     "end_time": "2025-02-08T20:47:59.978973Z",
     "start_time": "2025-02-08T20:47:59.737157Z"
    }
   },
   "cell_type": "code",
   "source": [
    "import re\n",
    "\n",
    "def clean_filename(filename):\n",
    "    # Remove any characters that might cause issues\n",
    "    clean = re.sub(r'[^a-zA-Z0-9_]', '_', filename)\n",
    "    return clean\n",
    "\n",
    "def convert_npy_to_rds(input_dir, output_dir=None):\n",
    "    # If no output directory specified, use input directory\n",
    "    if output_dir is None:\n",
    "        output_dir = input_dir\n",
    "\n",
    "    # Create output directory if it doesn't exist\n",
    "    if not os.path.exists(output_dir):\n",
    "        os.makedirs(output_dir)\n",
    "\n",
    "    # Activate automatic conversion\n",
    "    numpy2ri.activate()\n",
    "\n",
    "    # Find all .npy files in the input directory\n",
    "    npy_files = [f for f in os.listdir(input_dir) if f.endswith('.npy')]\n",
    "\n",
    "    for npy_file in npy_files:\n",
    "        try:\n",
    "            # Load numpy array\n",
    "            data = np.load(os.path.join(input_dir, npy_file))\n",
    "\n",
    "            # Clean the filename for R object name\n",
    "            clean_name = clean_filename(os.path.splitext(npy_file)[0])\n",
    "            r_name = 'r_' + clean_name\n",
    "\n",
    "            # Convert and assign to R's global environment\n",
    "            ro.globalenv[r_name] = numpy2ri.py2rpy(data)\n",
    "\n",
    "            # Create output filename (keep original filename for the .rds file)\n",
    "            rds_file = os.path.join(output_dir, npy_file.replace('.npy', '.rds'))\n",
    "\n",
    "            # Use cleaned name in R command but original name for file\n",
    "            r_command = f'saveRDS({r_name}, file=\"{rds_file}\")'\n",
    "            print(f\"Executing R command: {r_command}\")  # Debug print\n",
    "            ro.r(r_command)\n",
    "\n",
    "            print(f\"Converted {npy_file} to {os.path.basename(rds_file)}\")\n",
    "\n",
    "        except Exception as e:\n",
    "            print(f\"Error processing {npy_file}: {str(e)}\")\n",
    "            print(f\"Data shape: {data.shape}\")  # Print shape for debugging\n",
    "            print(f\"Data type: {data.dtype}\")   # Print type for debugging\n",
    "\n",
    "# Usage example:\n",
    "input_directory = '/Users/alexe/Kaggle/Till_Bertil/Evoked_matriser_med_ICA_Magnus'\n",
    "convert_npy_to_rds(input_directory)"
   ],
   "id": "c860e497c69a2f89",
   "outputs": [
    {
     "name": "stdout",
     "output_type": "stream",
     "text": [
      "Executing R command: saveRDS(r_2024_05_31T143456_phase_4_preproc, file=\"/Users/alexe/Kaggle/Till_Bertil/Evoked_matriser_med_ICA_Magnus/2024-05-31T143456_phase_4_preproc.rds\")\n",
      "Converted 2024-05-31T143456_phase_4_preproc.npy to 2024-05-31T143456_phase_4_preproc.rds\n",
      "Executing R command: saveRDS(r_2023_12_19T152518_phase_2_preproc, file=\"/Users/alexe/Kaggle/Till_Bertil/Evoked_matriser_med_ICA_Magnus/2023-12-19T152518_phase_2_preproc.rds\")\n",
      "Converted 2023-12-19T152518_phase_2_preproc.npy to 2023-12-19T152518_phase_2_preproc.rds\n",
      "Executing R command: saveRDS(r_2023_12_19T143454_phase_1_preproc, file=\"/Users/alexe/Kaggle/Till_Bertil/Evoked_matriser_med_ICA_Magnus/2023-12-19T143454_phase_1_preproc.rds\")\n",
      "Converted 2023-12-19T143454_phase_1_preproc.npy to 2023-12-19T143454_phase_1_preproc.rds\n",
      "Executing R command: saveRDS(r_2024_12_04T170714_sleep_phase_1_preproc, file=\"/Users/alexe/Kaggle/Till_Bertil/Evoked_matriser_med_ICA_Magnus/2024-12-04T170714_sleep_phase_1_preproc.rds\")\n",
      "Converted 2024-12-04T170714_sleep_phase_1_preproc.npy to 2024-12-04T170714_sleep_phase_1_preproc.rds\n",
      "Executing R command: saveRDS(r_2024_05_31T143456_phase_8_preproc, file=\"/Users/alexe/Kaggle/Till_Bertil/Evoked_matriser_med_ICA_Magnus/2024-05-31T143456_phase_8_preproc.rds\")\n",
      "Converted 2024-05-31T143456_phase_8_preproc.npy to 2024-05-31T143456_phase_8_preproc.rds\n",
      "Executing R command: saveRDS(r_2023_12_15T121633_phase_2_preproc, file=\"/Users/alexe/Kaggle/Till_Bertil/Evoked_matriser_med_ICA_Magnus/2023-12-15T121633_phase_2_preproc.rds\")\n",
      "Converted 2023-12-15T121633_phase_2_preproc.npy to 2023-12-15T121633_phase_2_preproc.rds\n",
      "Executing R command: saveRDS(r_2024_12_04T163850_wake_phase_1_preproc, file=\"/Users/alexe/Kaggle/Till_Bertil/Evoked_matriser_med_ICA_Magnus/2024-12-04T163850_wake_phase_1_preproc.rds\")\n",
      "Converted 2024-12-04T163850_wake_phase_1_preproc.npy to 2024-12-04T163850_wake_phase_1_preproc.rds\n",
      "Executing R command: saveRDS(r_2023_11_30T150853_phase_1_preproc, file=\"/Users/alexe/Kaggle/Till_Bertil/Evoked_matriser_med_ICA_Magnus/2023-11-30T150853_phase_1_preproc.rds\")\n",
      "Converted 2023-11-30T150853_phase_1_preproc.npy to 2023-11-30T150853_phase_1_preproc.rds\n",
      "Executing R command: saveRDS(r_2024_10_16T151006LPFC_phase_1_preproc, file=\"/Users/alexe/Kaggle/Till_Bertil/Evoked_matriser_med_ICA_Magnus/2024-10-16T151006LPFC_phase_1_preproc.rds\")\n",
      "Converted 2024-10-16T151006LPFC_phase_1_preproc.npy to 2024-10-16T151006LPFC_phase_1_preproc.rds\n",
      "Executing R command: saveRDS(r_2024_10_16T145951LMC_phase_1_preproc, file=\"/Users/alexe/Kaggle/Till_Bertil/Evoked_matriser_med_ICA_Magnus/2024-10-16T145951LMC_phase_1_preproc.rds\")\n",
      "Converted 2024-10-16T145951LMC_phase_1_preproc.npy to 2024-10-16T145951LMC_phase_1_preproc.rds\n",
      "Executing R command: saveRDS(r_2023_12_19T152518_phase_1_preproc, file=\"/Users/alexe/Kaggle/Till_Bertil/Evoked_matriser_med_ICA_Magnus/2023-12-19T152518_phase_1_preproc.rds\")\n",
      "Converted 2023-12-19T152518_phase_1_preproc.npy to 2023-12-19T152518_phase_1_preproc.rds\n",
      "Executing R command: saveRDS(r_2024_05_31T143456_phase_7_preproc, file=\"/Users/alexe/Kaggle/Till_Bertil/Evoked_matriser_med_ICA_Magnus/2024-05-31T143456_phase_7_preproc.rds\")\n",
      "Converted 2024-05-31T143456_phase_7_preproc.npy to 2024-05-31T143456_phase_7_preproc.rds\n",
      "Executing R command: saveRDS(r_2023_12_19T150539_phase_1_preproc, file=\"/Users/alexe/Kaggle/Till_Bertil/Evoked_matriser_med_ICA_Magnus/2023-12-19T150539_phase_1_preproc.rds\")\n",
      "Converted 2023-12-19T150539_phase_1_preproc.npy to 2023-12-19T150539_phase_1_preproc.rds\n",
      "Executing R command: saveRDS(r_2024_05_31T143456_phase_6_preproc, file=\"/Users/alexe/Kaggle/Till_Bertil/Evoked_matriser_med_ICA_Magnus/2024-05-31T143456_phase_6_preproc.rds\")\n",
      "Converted 2024-05-31T143456_phase_6_preproc.npy to 2024-05-31T143456_phase_6_preproc.rds\n",
      "Executing R command: saveRDS(r_2024_05_31T143456_phase_3_preproc, file=\"/Users/alexe/Kaggle/Till_Bertil/Evoked_matriser_med_ICA_Magnus/2024-05-31T143456_phase_3_preproc.rds\")\n",
      "Converted 2024-05-31T143456_phase_3_preproc.npy to 2024-05-31T143456_phase_3_preproc.rds\n"
     ]
    }
   ],
   "execution_count": 5
  },
  {
   "metadata": {},
   "cell_type": "code",
   "source": "",
   "id": "ec190e31bca67224",
   "outputs": [],
   "execution_count": null
  }
 ],
 "metadata": {
  "kernelspec": {
   "display_name": "R Python (conda)",
   "language": "python",
   "name": "r"
  },
  "language_info": {
   "codemirror_mode": {
    "name": "ipython",
    "version": 2
   },
   "file_extension": ".py",
   "mimetype": "text/x-python",
   "name": "python",
   "nbconvert_exporter": "python",
   "pygments_lexer": "ipython2",
   "version": "2.7.6"
  }
 },
 "nbformat": 4,
 "nbformat_minor": 5
}
