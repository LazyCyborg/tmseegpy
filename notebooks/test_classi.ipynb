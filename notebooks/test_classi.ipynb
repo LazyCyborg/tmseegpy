{
 "cells": [
  {
   "cell_type": "code",
   "id": "288bb91d-fe93-463d-a8b8-b15fec32893d",
   "metadata": {
    "ExecuteTime": {
     "end_time": "2025-02-10T00:40:10.036280Z",
     "start_time": "2025-02-10T00:40:10.032775Z"
    }
   },
   "source": [
    "# Add this at the start of your notebook\n",
    "import os\n",
    "from pathlib import Path\n",
    "import PyQt6\n",
    "\n",
    "# Set Qt plugin path explicitly\n",
    "qt_path = Path(PyQt6.__file__).parent / \"Qt6\" / \"plugins\" / \"platforms\"\n",
    "if qt_path.exists():\n",
    "    os.environ['QT_QPA_PLATFORM_PLUGIN_PATH'] = str(qt_path)\n"
   ],
   "outputs": [],
   "execution_count": 1
  },
  {
   "cell_type": "code",
   "id": "30079417d4df5d57",
   "metadata": {
    "ExecuteTime": {
     "end_time": "2025-02-10T00:40:12.608482Z",
     "start_time": "2025-02-10T00:40:10.717996Z"
    }
   },
   "source": [
    "from tmseegpy.ica_topo_classifier import ICATopographyClassifier\n",
    "import mne\n"
   ],
   "outputs": [
    {
     "name": "stdout",
     "output_type": "stream",
     "text": [
      "Using matplotlib as 2D backend.\n",
      "Using qt as 2D backend.\n",
      "Cannot switch Qt versions for this session; you must use qt6.\n",
      "Set QT_QPA_PLATFORM_PLUGIN_PATH to: /Users/alexe/anaconda3/envs/tmseeg-env/lib/python3.11/site-packages/PyQt6/Qt6/plugins/platforms\n"
     ]
    }
   ],
   "execution_count": 2
  },
  {
   "cell_type": "code",
   "id": "7cb74ea843810944",
   "metadata": {
    "ExecuteTime": {
     "end_time": "2025-02-10T00:40:12.722108Z",
     "start_time": "2025-02-10T00:40:12.625722Z"
    }
   },
   "source": [
    "fname = '/Users/alexe/Kaggle/get_done/Magnus_test/out/2024-12-04T163850_wake_phase_1/preprocessing_steps/2_epochs_bad_no_epoch/2024-12-04T163850_wake_phase_1_2_epochs_bad_no_epoch_epo.fif'\n",
    "\n",
    "epochs = mne.read_epochs(fname)"
   ],
   "outputs": [
    {
     "name": "stdout",
     "output_type": "stream",
     "text": [
      "Reading /Users/alexe/Kaggle/get_done/Magnus_test/out/2024-12-04T163850_wake_phase_1/preprocessing_steps/2_epochs_bad_no_epoch/2024-12-04T163850_wake_phase_1_2_epochs_bad_no_epoch_epo.fif ...\n",
      "    Found the data of interest:\n",
      "        t =    -800.00 ...     800.00 ms\n",
      "        0 CTF compensation matrices available\n",
      "Not setting metadata\n",
      "95 matching events found\n",
      "No baseline correction applied\n",
      "0 projection items activated\n"
     ]
    }
   ],
   "execution_count": 3
  },
  {
   "metadata": {},
   "cell_type": "code",
   "source": "epochs.plot(scalings='auto')",
   "id": "a99f4b386c740743",
   "outputs": [],
   "execution_count": null
  },
  {
   "metadata": {
    "ExecuteTime": {
     "end_time": "2025-02-10T00:40:32.605554Z",
     "start_time": "2025-02-10T00:40:14.151394Z"
    }
   },
   "cell_type": "code",
   "source": [
    "ica = mne.preprocessing.ICA(\n",
    "    max_iter=\"auto\",\n",
    "    method=\"fastica\",\n",
    "    random_state=42\n",
    ")\n",
    "\n",
    "ica.fit(epochs)\n"
   ],
   "id": "e6756739ed6afb19",
   "outputs": [
    {
     "name": "stdout",
     "output_type": "stream",
     "text": [
      "Fitting ICA to data using 32 channels (please be patient, this may take a while)\n"
     ]
    },
    {
     "name": "stderr",
     "output_type": "stream",
     "text": [
      "/var/folders/9m/04qxqpfn46d0n6sjf6pkwwh80000gn/T/ipykernel_39229/1770999120.py:7: RuntimeWarning: The data has not been high-pass filtered. For good ICA performance, it should be high-pass filtered (e.g., with a 1.0 Hz lower bound) before fitting ICA.\n",
      "  ica.fit(epochs)\n"
     ]
    },
    {
     "name": "stdout",
     "output_type": "stream",
     "text": [
      "Selecting by non-zero PCA components: 29 components\n",
      "Fitting ICA took 18.4s.\n"
     ]
    },
    {
     "data": {
      "text/plain": [
       "<ICA | epochs decomposition, method: fastica (fit in 58 iterations on 760095 samples), 29 ICA components (32 PCA components available), channel types: eeg, no sources marked for exclusion>"
      ],
      "text/html": [
       "<table class=\"table table-hover table-striped table-sm table-responsive small\">\n",
       "    <tr>\n",
       "        <th>Method</th>\n",
       "        <td>fastica</td>\n",
       "    </tr>\n",
       "    <tr>\n",
       "        <th>Fit parameters</th>\n",
       "        <td>algorithm=parallel<br />fun=logcosh<br />fun_args=None<br />max_iter=1000<br /></td>\n",
       "    </tr>\n",
       "    <tr>\n",
       "        <th>Fit</th>\n",
       "        <td>58 iterations on epochs (760095 samples)</td>\n",
       "    </tr>\n",
       "    \n",
       "    <tr>\n",
       "        <th>ICA components</th>\n",
       "        <td>29</td>\n",
       "    </tr>\n",
       "    <tr>\n",
       "        <th>Available PCA components</th>\n",
       "        <td>32</td>\n",
       "    </tr>\n",
       "    <tr>\n",
       "        <th>Channel types</th>\n",
       "        <td>eeg</td>\n",
       "    </tr>\n",
       "    <tr>\n",
       "        <th>ICA components marked for exclusion</th>\n",
       "        <td>&mdash;</td>\n",
       "    </tr>\n",
       "    \n",
       "</table>"
      ]
     },
     "execution_count": 4,
     "metadata": {},
     "output_type": "execute_result"
    }
   ],
   "execution_count": 4
  },
  {
   "metadata": {
    "ExecuteTime": {
     "end_time": "2025-02-10T00:44:34.909616Z",
     "start_time": "2025-02-10T00:44:33.140437Z"
    }
   },
   "cell_type": "code",
   "source": "ica.plot_sources(epochs)",
   "id": "3f26b90768115fc3",
   "outputs": [
    {
     "name": "stdout",
     "output_type": "stream",
     "text": [
      "Not setting metadata\n",
      "95 matching events found\n",
      "No baseline correction applied\n",
      "0 projection items activated\n",
      "Using pyopengl with version 3.1.7\n"
     ]
    },
    {
     "data": {
      "text/plain": [
       "<mne_qt_browser._pg_figure.MNEQtBrowser at 0x2e1b50d30>"
      ]
     },
     "execution_count": 6,
     "metadata": {},
     "output_type": "execute_result"
    }
   ],
   "execution_count": 6
  },
  {
   "metadata": {
    "ExecuteTime": {
     "end_time": "2025-02-10T00:40:37.292794Z",
     "start_time": "2025-02-10T00:40:37.288257Z"
    }
   },
   "cell_type": "code",
   "source": [
    "classifier = ICATopographyClassifier(ica, epochs)\n",
    "results = classifier.classify_all_components()\n",
    "\n",
    "# Print detailed results\n",
    "for idx, res in results.items():\n",
    "    print(f\"\\nComponent {idx}:\")\n",
    "    print(f\"Classification: {res['classification']}\")\n",
    "    print(f\"Reasons: {res['details']['reasons']}\")\n",
    "    print(f\"Max Z-score: {res['details']['max_zscore']:.2f}\")\n",
    "    print(f\"Number of peaks: {res['details']['n_peaks']}\")"
   ],
   "id": "94831a9d4ccdd83c",
   "outputs": [
    {
     "name": "stdout",
     "output_type": "stream",
     "text": [
      "\n",
      "Component 0:\n",
      "Classification: non_artifact\n",
      "Reasons: ['focal_pattern (peaks=0)']\n",
      "Max Z-score: 2.51\n",
      "Number of peaks: 0\n",
      "\n",
      "Component 1:\n",
      "Classification: artifact\n",
      "Reasons: ['high_amplitude (z=4.26)', 'focal_pattern (peaks=1)', 'concentrated_activity']\n",
      "Max Z-score: 4.26\n",
      "Number of peaks: 1\n",
      "\n",
      "Component 2:\n",
      "Classification: non_artifact\n",
      "Reasons: ['focal_pattern (peaks=0)']\n",
      "Max Z-score: 2.32\n",
      "Number of peaks: 0\n",
      "\n",
      "Component 3:\n",
      "Classification: non_artifact\n",
      "Reasons: ['focal_pattern (peaks=0)']\n",
      "Max Z-score: 3.03\n",
      "Number of peaks: 0\n",
      "\n",
      "Component 4:\n",
      "Classification: non_artifact\n",
      "Reasons: ['focal_pattern (peaks=0)']\n",
      "Max Z-score: 3.18\n",
      "Number of peaks: 0\n",
      "\n",
      "Component 5:\n",
      "Classification: non_artifact\n",
      "Reasons: ['focal_pattern (peaks=0)']\n",
      "Max Z-score: 2.86\n",
      "Number of peaks: 0\n",
      "\n",
      "Component 6:\n",
      "Classification: artifact\n",
      "Reasons: ['high_amplitude (z=3.59)', 'focal_pattern (peaks=1)', 'concentrated_activity']\n",
      "Max Z-score: 3.59\n",
      "Number of peaks: 1\n",
      "\n",
      "Component 7:\n",
      "Classification: non_artifact\n",
      "Reasons: ['focal_pattern (peaks=0)']\n",
      "Max Z-score: 1.75\n",
      "Number of peaks: 0\n",
      "\n",
      "Component 8:\n",
      "Classification: artifact\n",
      "Reasons: ['high_amplitude (z=5.38)', 'focal_pattern (peaks=1)', 'concentrated_activity']\n",
      "Max Z-score: 5.38\n",
      "Number of peaks: 1\n",
      "\n",
      "Component 9:\n",
      "Classification: non_artifact\n",
      "Reasons: ['focal_pattern (peaks=0)']\n",
      "Max Z-score: 2.24\n",
      "Number of peaks: 0\n",
      "\n",
      "Component 10:\n",
      "Classification: non_artifact\n",
      "Reasons: ['focal_pattern (peaks=0)']\n",
      "Max Z-score: 2.64\n",
      "Number of peaks: 0\n",
      "\n",
      "Component 11:\n",
      "Classification: non_artifact\n",
      "Reasons: ['focal_pattern (peaks=0)']\n",
      "Max Z-score: 2.89\n",
      "Number of peaks: 0\n",
      "\n",
      "Component 12:\n",
      "Classification: artifact\n",
      "Reasons: ['high_amplitude (z=4.68)', 'focal_pattern (peaks=1)', 'concentrated_activity']\n",
      "Max Z-score: 4.68\n",
      "Number of peaks: 1\n",
      "\n",
      "Component 13:\n",
      "Classification: artifact\n",
      "Reasons: ['high_amplitude (z=4.35)', 'focal_pattern (peaks=1)', 'concentrated_activity']\n",
      "Max Z-score: 4.35\n",
      "Number of peaks: 1\n",
      "\n",
      "Component 14:\n",
      "Classification: artifact\n",
      "Reasons: ['high_amplitude (z=3.76)', 'focal_pattern (peaks=1)', 'concentrated_activity']\n",
      "Max Z-score: 3.76\n",
      "Number of peaks: 1\n",
      "\n",
      "Component 15:\n",
      "Classification: artifact\n",
      "Reasons: ['high_amplitude (z=4.71)', 'focal_pattern (peaks=1)', 'concentrated_activity']\n",
      "Max Z-score: 4.71\n",
      "Number of peaks: 1\n",
      "\n",
      "Component 16:\n",
      "Classification: artifact\n",
      "Reasons: ['high_amplitude (z=4.20)', 'focal_pattern (peaks=1)', 'concentrated_activity']\n",
      "Max Z-score: 4.20\n",
      "Number of peaks: 1\n",
      "\n",
      "Component 17:\n",
      "Classification: non_artifact\n",
      "Reasons: ['focal_pattern (peaks=0)']\n",
      "Max Z-score: 3.45\n",
      "Number of peaks: 0\n",
      "\n",
      "Component 18:\n",
      "Classification: non_artifact\n",
      "Reasons: ['focal_pattern (peaks=0)']\n",
      "Max Z-score: 2.63\n",
      "Number of peaks: 0\n",
      "\n",
      "Component 19:\n",
      "Classification: non_artifact\n",
      "Reasons: ['focal_pattern (peaks=0)']\n",
      "Max Z-score: 2.33\n",
      "Number of peaks: 0\n",
      "\n",
      "Component 20:\n",
      "Classification: artifact\n",
      "Reasons: ['high_amplitude (z=5.34)', 'focal_pattern (peaks=1)', 'concentrated_activity']\n",
      "Max Z-score: 5.34\n",
      "Number of peaks: 1\n",
      "\n",
      "Component 21:\n",
      "Classification: non_artifact\n",
      "Reasons: ['focal_pattern (peaks=0)']\n",
      "Max Z-score: 2.05\n",
      "Number of peaks: 0\n",
      "\n",
      "Component 22:\n",
      "Classification: non_artifact\n",
      "Reasons: ['focal_pattern (peaks=0)']\n",
      "Max Z-score: 2.84\n",
      "Number of peaks: 0\n",
      "\n",
      "Component 23:\n",
      "Classification: non_artifact\n",
      "Reasons: ['focal_pattern (peaks=0)']\n",
      "Max Z-score: 2.21\n",
      "Number of peaks: 0\n",
      "\n",
      "Component 24:\n",
      "Classification: artifact\n",
      "Reasons: ['high_amplitude (z=3.82)', 'focal_pattern (peaks=1)', 'concentrated_activity']\n",
      "Max Z-score: 3.82\n",
      "Number of peaks: 1\n",
      "\n",
      "Component 25:\n",
      "Classification: non_artifact\n",
      "Reasons: ['focal_pattern (peaks=0)']\n",
      "Max Z-score: 2.60\n",
      "Number of peaks: 0\n",
      "\n",
      "Component 26:\n",
      "Classification: non_artifact\n",
      "Reasons: ['focal_pattern (peaks=0)']\n",
      "Max Z-score: 2.42\n",
      "Number of peaks: 0\n",
      "\n",
      "Component 27:\n",
      "Classification: non_artifact\n",
      "Reasons: ['focal_pattern (peaks=0)']\n",
      "Max Z-score: 3.46\n",
      "Number of peaks: 0\n",
      "\n",
      "Component 28:\n",
      "Classification: artifact\n",
      "Reasons: ['high_amplitude (z=4.59)', 'focal_pattern (peaks=1)', 'concentrated_activity']\n",
      "Max Z-score: 4.59\n",
      "Number of peaks: 1\n"
     ]
    }
   ],
   "execution_count": 5
  },
  {
   "metadata": {},
   "cell_type": "code",
   "source": [
    "import numpy as np\n",
    "\n",
    "artifact_components = [0, 1, 3, 6, 8, 11, 12, 13, 14, 15, 16, 20, 24, 28]\n",
    "non_artifact_components = [i for i in range(29) if i not in artifact_components]\n",
    "\n",
    "# Get patterns for both groups\n",
    "def analyze_component_patterns(classifier, artifact_indices, non_artifact_indices):\n",
    "    artifact_patterns = [classifier.patterns[:, i] for i in artifact_indices]\n",
    "    non_artifact_patterns = [classifier.patterns[:, i] for i in non_artifact_indices]\n",
    "\n",
    "    # Get z-scored patterns\n",
    "    artifact_z = [classifier._normalize_pattern(p) for p in artifact_patterns]\n",
    "    non_artifact_z = [classifier._normalize_pattern(p) for p in non_artifact_patterns]\n",
    "\n",
    "    # Analyze key features\n",
    "    def get_pattern_features(pattern):\n",
    "        z_pattern = classifier._normalize_pattern(pattern)\n",
    "        max_abs = np.max(np.abs(z_pattern))\n",
    "        peak_indices = np.where(np.abs(z_pattern) > classifier.focal_intensity_threshold)[0]\n",
    "        peak_positions = [classifier.pos[idx] for idx in peak_indices]\n",
    "\n",
    "        # Calculate distances from center for peaks\n",
    "        distances = [np.linalg.norm(pos) for pos in peak_positions]\n",
    "\n",
    "        return {\n",
    "            'max_abs_zscore': max_abs,\n",
    "            'n_peaks': len(peak_indices),\n",
    "            'peak_distances': distances,\n",
    "            'pattern': z_pattern\n",
    "        }\n",
    "\n",
    "    artifact_features = [get_pattern_features(p) for p in artifact_patterns]\n",
    "    non_artifact_features = [get_pattern_features(p) for p in non_artifact_patterns]\n",
    "\n",
    "    return artifact_features, non_artifact_features\n",
    "\n",
    "# Run analysis\n",
    "artifact_features, non_artifact_features = analyze_component_patterns(\n",
    "    classifier, artifact_components, non_artifact_components)\n",
    "\n",
    "# Print summary statistics\n",
    "def print_feature_stats(features, name):\n",
    "    max_zscores = [f['max_abs_zscore'] for f in features]\n",
    "    n_peaks = [f['n_peaks'] for f in features]\n",
    "    distances = [d for f in features for d in f['peak_distances']]\n",
    "\n",
    "    print(f\"\\n{name} Components Statistics:\")\n",
    "    print(f\"Max Z-scores: mean={np.mean(max_zscores):.2f}, std={np.std(max_zscores):.2f}\")\n",
    "    print(f\"Number of peaks: mean={np.mean(n_peaks):.2f}, std={np.std(n_peaks):.2f}\")\n",
    "    print(f\"Peak distances from center: mean={np.mean(distances):.2f}, std={np.std(distances):.2f}\")\n",
    "\n",
    "print_feature_stats(artifact_features, \"Artifact\")\n",
    "print_feature_stats(non_artifact_features, \"Non-Artifact\")"
   ],
   "id": "d60455493111d709",
   "outputs": [],
   "execution_count": null
  },
  {
   "metadata": {},
   "cell_type": "code",
   "source": "",
   "id": "c8f84893f418026f",
   "outputs": [],
   "execution_count": null
  }
 ],
 "metadata": {
  "kernelspec": {
   "display_name": "TMS-EEG Analysis",
   "language": "python",
   "name": "tmseeg-env"
  },
  "language_info": {
   "codemirror_mode": {
    "name": "ipython",
    "version": 3
   },
   "file_extension": ".py",
   "mimetype": "text/x-python",
   "name": "python",
   "nbconvert_exporter": "python",
   "pygments_lexer": "ipython3",
   "version": "3.11.11"
  }
 },
 "nbformat": 4,
 "nbformat_minor": 5
}
